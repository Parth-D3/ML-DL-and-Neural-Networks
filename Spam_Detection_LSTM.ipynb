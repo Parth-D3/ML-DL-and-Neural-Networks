{
 "cells": [
  {
   "cell_type": "code",
   "execution_count": 1,
   "id": "d52d7642",
   "metadata": {},
   "outputs": [],
   "source": [
    "import numpy as np\n",
    "import pandas as pd\n",
    "import random\n",
    "import matplotlib.pyplot as plt\n",
    "import tensorflow as tf\n",
    "\n",
    "from sklearn.metrics import accuracy_score\n",
    "\n",
    "\n",
    "from tensorflow.keras.models import Sequential\n",
    "from tensorflow.keras.layers import Flatten,Conv2D,Dense,MaxPool2D\n",
    "from tensorflow.keras.utils import to_categorical\n",
    "from keras.layers import Dense,LSTM,Embedding\n",
    "from tensorflow.keras.optimizers import Adam"
   ]
  },
  {
   "cell_type": "code",
   "execution_count": 2,
   "id": "1a87e978",
   "metadata": {},
   "outputs": [
    {
     "data": {
      "text/html": [
       "<div>\n",
       "<style scoped>\n",
       "    .dataframe tbody tr th:only-of-type {\n",
       "        vertical-align: middle;\n",
       "    }\n",
       "\n",
       "    .dataframe tbody tr th {\n",
       "        vertical-align: top;\n",
       "    }\n",
       "\n",
       "    .dataframe thead th {\n",
       "        text-align: right;\n",
       "    }\n",
       "</style>\n",
       "<table border=\"1\" class=\"dataframe\">\n",
       "  <thead>\n",
       "    <tr style=\"text-align: right;\">\n",
       "      <th></th>\n",
       "      <th>v1</th>\n",
       "      <th>v2</th>\n",
       "      <th>Unnamed: 2</th>\n",
       "      <th>Unnamed: 3</th>\n",
       "      <th>Unnamed: 4</th>\n",
       "    </tr>\n",
       "  </thead>\n",
       "  <tbody>\n",
       "    <tr>\n",
       "      <th>0</th>\n",
       "      <td>ham</td>\n",
       "      <td>Go until jurong point, crazy.. Available only ...</td>\n",
       "      <td>NaN</td>\n",
       "      <td>NaN</td>\n",
       "      <td>NaN</td>\n",
       "    </tr>\n",
       "    <tr>\n",
       "      <th>1</th>\n",
       "      <td>ham</td>\n",
       "      <td>Ok lar... Joking wif u oni...</td>\n",
       "      <td>NaN</td>\n",
       "      <td>NaN</td>\n",
       "      <td>NaN</td>\n",
       "    </tr>\n",
       "    <tr>\n",
       "      <th>2</th>\n",
       "      <td>spam</td>\n",
       "      <td>Free entry in 2 a wkly comp to win FA Cup fina...</td>\n",
       "      <td>NaN</td>\n",
       "      <td>NaN</td>\n",
       "      <td>NaN</td>\n",
       "    </tr>\n",
       "    <tr>\n",
       "      <th>3</th>\n",
       "      <td>ham</td>\n",
       "      <td>U dun say so early hor... U c already then say...</td>\n",
       "      <td>NaN</td>\n",
       "      <td>NaN</td>\n",
       "      <td>NaN</td>\n",
       "    </tr>\n",
       "    <tr>\n",
       "      <th>4</th>\n",
       "      <td>ham</td>\n",
       "      <td>Nah I don't think he goes to usf, he lives aro...</td>\n",
       "      <td>NaN</td>\n",
       "      <td>NaN</td>\n",
       "      <td>NaN</td>\n",
       "    </tr>\n",
       "  </tbody>\n",
       "</table>\n",
       "</div>"
      ],
      "text/plain": [
       "     v1                                                 v2 Unnamed: 2  \\\n",
       "0   ham  Go until jurong point, crazy.. Available only ...        NaN   \n",
       "1   ham                      Ok lar... Joking wif u oni...        NaN   \n",
       "2  spam  Free entry in 2 a wkly comp to win FA Cup fina...        NaN   \n",
       "3   ham  U dun say so early hor... U c already then say...        NaN   \n",
       "4   ham  Nah I don't think he goes to usf, he lives aro...        NaN   \n",
       "\n",
       "  Unnamed: 3 Unnamed: 4  \n",
       "0        NaN        NaN  \n",
       "1        NaN        NaN  \n",
       "2        NaN        NaN  \n",
       "3        NaN        NaN  \n",
       "4        NaN        NaN  "
      ]
     },
     "execution_count": 2,
     "metadata": {},
     "output_type": "execute_result"
    }
   ],
   "source": [
    "messages = pd.read_csv('spam1.csv')\n",
    "messages.head()"
   ]
  },
  {
   "cell_type": "code",
   "execution_count": 3,
   "id": "56736219",
   "metadata": {},
   "outputs": [
    {
     "data": {
      "text/plain": [
       "v1               0\n",
       "v2               0\n",
       "Unnamed: 2    6720\n",
       "Unnamed: 3    6760\n",
       "Unnamed: 4    6768\n",
       "dtype: int64"
      ]
     },
     "execution_count": 3,
     "metadata": {},
     "output_type": "execute_result"
    }
   ],
   "source": [
    "messages.isnull().sum()"
   ]
  },
  {
   "cell_type": "code",
   "execution_count": 4,
   "id": "dcb46e6d",
   "metadata": {},
   "outputs": [],
   "source": [
    "messages =  messages.iloc[ :,[0,1]]"
   ]
  },
  {
   "cell_type": "code",
   "execution_count": 5,
   "id": "08096e43",
   "metadata": {},
   "outputs": [
    {
     "data": {
      "text/html": [
       "<div>\n",
       "<style scoped>\n",
       "    .dataframe tbody tr th:only-of-type {\n",
       "        vertical-align: middle;\n",
       "    }\n",
       "\n",
       "    .dataframe tbody tr th {\n",
       "        vertical-align: top;\n",
       "    }\n",
       "\n",
       "    .dataframe thead th {\n",
       "        text-align: right;\n",
       "    }\n",
       "</style>\n",
       "<table border=\"1\" class=\"dataframe\">\n",
       "  <thead>\n",
       "    <tr style=\"text-align: right;\">\n",
       "      <th></th>\n",
       "      <th>v1</th>\n",
       "      <th>v2</th>\n",
       "    </tr>\n",
       "  </thead>\n",
       "  <tbody>\n",
       "    <tr>\n",
       "      <th>0</th>\n",
       "      <td>ham</td>\n",
       "      <td>Go until jurong point, crazy.. Available only ...</td>\n",
       "    </tr>\n",
       "    <tr>\n",
       "      <th>1</th>\n",
       "      <td>ham</td>\n",
       "      <td>Ok lar... Joking wif u oni...</td>\n",
       "    </tr>\n",
       "    <tr>\n",
       "      <th>2</th>\n",
       "      <td>spam</td>\n",
       "      <td>Free entry in 2 a wkly comp to win FA Cup fina...</td>\n",
       "    </tr>\n",
       "    <tr>\n",
       "      <th>3</th>\n",
       "      <td>ham</td>\n",
       "      <td>U dun say so early hor... U c already then say...</td>\n",
       "    </tr>\n",
       "    <tr>\n",
       "      <th>4</th>\n",
       "      <td>ham</td>\n",
       "      <td>Nah I don't think he goes to usf, he lives aro...</td>\n",
       "    </tr>\n",
       "    <tr>\n",
       "      <th>...</th>\n",
       "      <td>...</td>\n",
       "      <td>...</td>\n",
       "    </tr>\n",
       "    <tr>\n",
       "      <th>6771</th>\n",
       "      <td>spam</td>\n",
       "      <td>This is the 2nd time we have tried 2 contact u...</td>\n",
       "    </tr>\n",
       "    <tr>\n",
       "      <th>6772</th>\n",
       "      <td>ham</td>\n",
       "      <td>Will Ì_ b going to esplanade fr home?</td>\n",
       "    </tr>\n",
       "    <tr>\n",
       "      <th>6773</th>\n",
       "      <td>ham</td>\n",
       "      <td>Pity, * was in mood for that. So...any other s...</td>\n",
       "    </tr>\n",
       "    <tr>\n",
       "      <th>6774</th>\n",
       "      <td>ham</td>\n",
       "      <td>The guy did some bitching but I acted like i'd...</td>\n",
       "    </tr>\n",
       "    <tr>\n",
       "      <th>6775</th>\n",
       "      <td>ham</td>\n",
       "      <td>Rofl. Its true to its name</td>\n",
       "    </tr>\n",
       "  </tbody>\n",
       "</table>\n",
       "<p>6776 rows × 2 columns</p>\n",
       "</div>"
      ],
      "text/plain": [
       "        v1                                                 v2\n",
       "0      ham  Go until jurong point, crazy.. Available only ...\n",
       "1      ham                      Ok lar... Joking wif u oni...\n",
       "2     spam  Free entry in 2 a wkly comp to win FA Cup fina...\n",
       "3      ham  U dun say so early hor... U c already then say...\n",
       "4      ham  Nah I don't think he goes to usf, he lives aro...\n",
       "...    ...                                                ...\n",
       "6771  spam  This is the 2nd time we have tried 2 contact u...\n",
       "6772   ham              Will Ì_ b going to esplanade fr home?\n",
       "6773   ham  Pity, * was in mood for that. So...any other s...\n",
       "6774   ham  The guy did some bitching but I acted like i'd...\n",
       "6775   ham                         Rofl. Its true to its name\n",
       "\n",
       "[6776 rows x 2 columns]"
      ]
     },
     "execution_count": 5,
     "metadata": {},
     "output_type": "execute_result"
    }
   ],
   "source": [
    "messages"
   ]
  },
  {
   "cell_type": "code",
   "execution_count": 6,
   "id": "ea1f5b24",
   "metadata": {},
   "outputs": [],
   "source": [
    "messages.rename(columns = {'v1':'Label','v2':'Messages'},inplace = True)"
   ]
  },
  {
   "cell_type": "code",
   "execution_count": 7,
   "id": "8d68d0c2",
   "metadata": {},
   "outputs": [
    {
     "data": {
      "text/plain": [
       "ham     5854\n",
       "spam     922\n",
       "Name: Label, dtype: int64"
      ]
     },
     "execution_count": 7,
     "metadata": {},
     "output_type": "execute_result"
    }
   ],
   "source": [
    "messages.Label.value_counts()"
   ]
  },
  {
   "cell_type": "code",
   "execution_count": 8,
   "id": "4875ca3c",
   "metadata": {},
   "outputs": [],
   "source": [
    "messages.Label.replace({'spam':1,'ham':0},inplace = True)"
   ]
  },
  {
   "cell_type": "code",
   "execution_count": 9,
   "id": "18246d7b",
   "metadata": {},
   "outputs": [],
   "source": [
    "messages.Messages = messages.Messages.str.lower()"
   ]
  },
  {
   "cell_type": "code",
   "execution_count": 10,
   "id": "2ff7b70a",
   "metadata": {},
   "outputs": [],
   "source": [
    "from sklearn.model_selection import train_test_split"
   ]
  },
  {
   "cell_type": "code",
   "execution_count": 11,
   "id": "7cd82121",
   "metadata": {},
   "outputs": [],
   "source": [
    "msg_train,msg_test = train_test_split(messages,test_size = 0.2)"
   ]
  },
  {
   "cell_type": "code",
   "execution_count": 12,
   "id": "f41e6cfc",
   "metadata": {},
   "outputs": [],
   "source": [
    "msg_train_x = msg_train.iloc[:,1]\n",
    "msg_train_y = msg_train.iloc[:,0]"
   ]
  },
  {
   "cell_type": "code",
   "execution_count": 13,
   "id": "dba6c528",
   "metadata": {},
   "outputs": [],
   "source": [
    "msg_test_x = msg_test.iloc[:,1]\n",
    "msg_test_y = msg_test.iloc[:,0]"
   ]
  },
  {
   "cell_type": "code",
   "execution_count": 14,
   "id": "cd6ed306",
   "metadata": {},
   "outputs": [
    {
     "data": {
      "text/plain": [
       "(5420,)"
      ]
     },
     "execution_count": 14,
     "metadata": {},
     "output_type": "execute_result"
    }
   ],
   "source": [
    "msg_train_y.shape"
   ]
  },
  {
   "cell_type": "code",
   "execution_count": 15,
   "id": "641fa3c9",
   "metadata": {},
   "outputs": [],
   "source": [
    "# we cannot build model on one dimensional data. So we use to_categorical() to convert into 2D\n",
    "msg_train_y = to_categorical(msg_train_y)"
   ]
  },
  {
   "cell_type": "code",
   "execution_count": 16,
   "id": "42cc9659",
   "metadata": {},
   "outputs": [],
   "source": [
    "max_num_words = 15000 # number of unique words in the dataset\n",
    "seq_len = 50 # number of words to be processed at a single time\n",
    "embedding_size = 75 # for each word how many embedding we are going to generate"
   ]
  },
  {
   "cell_type": "code",
   "execution_count": 17,
   "id": "62c06d2b",
   "metadata": {},
   "outputs": [],
   "source": [
    "from keras.preprocessing.text import Tokenizer #it is used to assign number to each unique word\n",
    "from tensorflow.keras.preprocessing.sequence import pad_sequences"
   ]
  },
  {
   "cell_type": "code",
   "execution_count": 18,
   "id": "75659392",
   "metadata": {},
   "outputs": [],
   "source": [
    "tokenizer = Tokenizer(num_words = max_num_words)"
   ]
  },
  {
   "cell_type": "code",
   "execution_count": 19,
   "id": "709db929",
   "metadata": {},
   "outputs": [
    {
     "data": {
      "text/plain": [
       "<keras.preprocessing.text.Tokenizer at 0x267519dc8b0>"
      ]
     },
     "execution_count": 19,
     "metadata": {},
     "output_type": "execute_result"
    }
   ],
   "source": [
    "tokenizer"
   ]
  },
  {
   "cell_type": "code",
   "execution_count": 20,
   "id": "a071b8ff",
   "metadata": {},
   "outputs": [],
   "source": [
    "tokenizer.fit_on_texts(messages.Messages)\n",
    "msg_train_x = tokenizer.texts_to_sequences(msg_train_x)\n",
    "msg_train_x = pad_sequences(msg_train_x,maxlen = seq_len)  #before using this every record has different shape. It makes shape of evry record same"
   ]
  },
  {
   "cell_type": "code",
   "execution_count": 21,
   "id": "a8e7da33",
   "metadata": {},
   "outputs": [],
   "source": [
    "msg_test_x = tokenizer.texts_to_sequences(msg_test_x)\n",
    "msg_test_x = pad_sequences(msg_test_x , maxlen = seq_len)"
   ]
  },
  {
   "cell_type": "markdown",
   "id": "b6101787",
   "metadata": {},
   "source": [
    "***Model Building***"
   ]
  },
  {
   "cell_type": "code",
   "execution_count": 27,
   "id": "1859e145",
   "metadata": {},
   "outputs": [],
   "source": [
    "model = Sequential()\n",
    "model.add(Embedding(input_dim = max_num_words,input_length = seq_len,output_dim = embedding_size))\n",
    "\n",
    "model.add(LSTM(5))\n",
    "model.add(Dense(2,activation = 'softmax'))\n",
    "\n",
    "adam = Adam(learning_rate = 0.001)\n",
    "model.compile(optimizer = 'adam',loss = 'categorical_crossentropy',metrics = ['accuracy'])"
   ]
  },
  {
   "cell_type": "code",
   "execution_count": 28,
   "id": "7bf72617",
   "metadata": {},
   "outputs": [
    {
     "name": "stdout",
     "output_type": "stream",
     "text": [
      "Epoch 1/10\n",
      "136/136 [==============================] - 5s 24ms/step - loss: 0.3369 - accuracy: 0.8964 - val_loss: 0.1480 - val_accuracy: 0.9742\n",
      "Epoch 2/10\n",
      "136/136 [==============================] - 3s 20ms/step - loss: 0.0993 - accuracy: 0.9857 - val_loss: 0.0796 - val_accuracy: 0.9880\n",
      "Epoch 3/10\n",
      "136/136 [==============================] - 3s 20ms/step - loss: 0.0456 - accuracy: 0.9954 - val_loss: 0.0537 - val_accuracy: 0.9889\n",
      "Epoch 4/10\n",
      "136/136 [==============================] - 3s 21ms/step - loss: 0.0224 - accuracy: 0.9988 - val_loss: 0.0443 - val_accuracy: 0.9899\n",
      "Epoch 5/10\n",
      "136/136 [==============================] - 3s 21ms/step - loss: 0.0124 - accuracy: 0.9995 - val_loss: 0.0413 - val_accuracy: 0.9899\n",
      "Epoch 6/10\n",
      "136/136 [==============================] - 3s 22ms/step - loss: 0.0080 - accuracy: 0.9995 - val_loss: 0.0419 - val_accuracy: 0.9908\n",
      "Epoch 7/10\n",
      "136/136 [==============================] - 3s 22ms/step - loss: 0.0055 - accuracy: 0.9998 - val_loss: 0.0413 - val_accuracy: 0.9908\n",
      "Epoch 8/10\n",
      "136/136 [==============================] - 3s 21ms/step - loss: 0.0037 - accuracy: 1.0000 - val_loss: 0.0435 - val_accuracy: 0.9908\n",
      "Epoch 9/10\n",
      "136/136 [==============================] - 3s 20ms/step - loss: 0.0028 - accuracy: 1.0000 - val_loss: 0.0424 - val_accuracy: 0.9908\n",
      "Epoch 10/10\n",
      "136/136 [==============================] - 3s 19ms/step - loss: 0.0022 - accuracy: 1.0000 - val_loss: 0.0461 - val_accuracy: 0.9908\n"
     ]
    },
    {
     "data": {
      "text/plain": [
       "<keras.callbacks.History at 0x2675443f6a0>"
      ]
     },
     "execution_count": 28,
     "metadata": {},
     "output_type": "execute_result"
    }
   ],
   "source": [
    "model.fit(msg_train_x,msg_train_y,epochs = 10,validation_split = 0.2)"
   ]
  },
  {
   "cell_type": "code",
   "execution_count": 29,
   "id": "49b27c3d",
   "metadata": {},
   "outputs": [
    {
     "name": "stdout",
     "output_type": "stream",
     "text": [
      "43/43 [==============================] - 0s 2ms/step\n"
     ]
    }
   ],
   "source": [
    "pred = model.predict(msg_test_x)"
   ]
  },
  {
   "cell_type": "code",
   "execution_count": 30,
   "id": "9713b0d8",
   "metadata": {},
   "outputs": [
    {
     "data": {
      "text/plain": [
       "array([[9.9909520e-01, 9.0486836e-04],\n",
       "       [9.9897170e-01, 1.0283040e-03],\n",
       "       [9.9750620e-01, 2.4938581e-03],\n",
       "       ...,\n",
       "       [9.9872154e-01, 1.2784805e-03],\n",
       "       [9.9629092e-01, 3.7091027e-03],\n",
       "       [1.0188707e-01, 8.9811289e-01]], dtype=float32)"
      ]
     },
     "execution_count": 30,
     "metadata": {},
     "output_type": "execute_result"
    }
   ],
   "source": [
    "pred"
   ]
  },
  {
   "cell_type": "code",
   "execution_count": 33,
   "id": "4f502106",
   "metadata": {},
   "outputs": [],
   "source": [
    "pred_class = np.argmax(pred,axis = 1)"
   ]
  },
  {
   "cell_type": "code",
   "execution_count": 34,
   "id": "18866d80",
   "metadata": {},
   "outputs": [
    {
     "data": {
      "text/plain": [
       "array([0, 0, 0, ..., 0, 0, 1], dtype=int64)"
      ]
     },
     "execution_count": 34,
     "metadata": {},
     "output_type": "execute_result"
    }
   ],
   "source": [
    "pred_class"
   ]
  },
  {
   "cell_type": "code",
   "execution_count": 35,
   "id": "6dd8f56d",
   "metadata": {},
   "outputs": [],
   "source": [
    "from sklearn.metrics import confusion_matrix"
   ]
  },
  {
   "cell_type": "code",
   "execution_count": 36,
   "id": "f5dff7a3",
   "metadata": {},
   "outputs": [
    {
     "data": {
      "text/plain": [
       "array([[1188,    0],\n",
       "       [   5,  163]], dtype=int64)"
      ]
     },
     "execution_count": 36,
     "metadata": {},
     "output_type": "execute_result"
    }
   ],
   "source": [
    "confusion_matrix(msg_test_y,pred_class)"
   ]
  },
  {
   "cell_type": "code",
   "execution_count": 37,
   "id": "da6e9c44",
   "metadata": {},
   "outputs": [
    {
     "data": {
      "text/plain": [
       "99.63126843657817"
      ]
     },
     "execution_count": 37,
     "metadata": {},
     "output_type": "execute_result"
    }
   ],
   "source": [
    "accuracy_score(msg_test_y,pred_class)*100"
   ]
  },
  {
   "cell_type": "code",
   "execution_count": null,
   "id": "c960196b",
   "metadata": {},
   "outputs": [],
   "source": []
  }
 ],
 "metadata": {
  "kernelspec": {
   "display_name": "Python 3 (ipykernel)",
   "language": "python",
   "name": "python3"
  },
  "language_info": {
   "codemirror_mode": {
    "name": "ipython",
    "version": 3
   },
   "file_extension": ".py",
   "mimetype": "text/x-python",
   "name": "python",
   "nbconvert_exporter": "python",
   "pygments_lexer": "ipython3",
   "version": "3.9.12"
  }
 },
 "nbformat": 4,
 "nbformat_minor": 5
}
