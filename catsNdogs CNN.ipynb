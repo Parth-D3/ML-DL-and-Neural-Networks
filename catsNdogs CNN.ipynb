{
 "cells": [
  {
   "cell_type": "markdown",
   "id": "c5502779",
   "metadata": {},
   "source": [
    "# Convolutional Neural Networks (cats and dogs dataset)"
   ]
  },
  {
   "cell_type": "code",
   "execution_count": 1,
   "id": "a5d20547",
   "metadata": {},
   "outputs": [],
   "source": [
    "# importing all the libraries\n",
    "import numpy as np\n",
    "import pandas as pd\n",
    "import tensorflow as tf\n",
    "import keras\n",
    "import matplotlib.pyplot as plt"
   ]
  },
  {
   "cell_type": "code",
   "execution_count": 2,
   "id": "67adafec",
   "metadata": {},
   "outputs": [],
   "source": [
    "from sklearn.metrics import accuracy_score,confusion_matrix\n",
    "from tensorflow.keras.models import Sequential\n",
    "from tensorflow.keras.layers import Flatten,Conv2D,Dense,MaxPool2D\n",
    "from tensorflow.keras.utils import to_categorical\n",
    "import os\n",
    "import cv2"
   ]
  },
  {
   "cell_type": "code",
   "execution_count": 3,
   "id": "a9d9577c",
   "metadata": {},
   "outputs": [],
   "source": [
    "# loading dataset\n",
    "path1 = r'D:\\Datasets\\catsdogs'\n",
    "cate = ['cats','dogs']"
   ]
  },
  {
   "cell_type": "code",
   "execution_count": 4,
   "id": "5665a9e5",
   "metadata": {},
   "outputs": [
    {
     "name": "stdout",
     "output_type": "stream",
     "text": [
      "D:\\Datasets\\catsdogs\\cats\n",
      "D:\\Datasets\\catsdogs\\dogs\n"
     ]
    }
   ],
   "source": [
    "for i in cate:\n",
    "    folders = os.path.join(path1,i)\n",
    "    print(folders)"
   ]
  },
  {
   "cell_type": "code",
   "execution_count": 27,
   "id": "242cdfec",
   "metadata": {},
   "outputs": [],
   "source": [
    "#setting image dimensions\n",
    "image_size = 200\n"
   ]
  },
  {
   "cell_type": "code",
   "execution_count": 28,
   "id": "947480a3",
   "metadata": {},
   "outputs": [
    {
     "name": "stdout",
     "output_type": "stream",
     "text": [
      "Value of label is:  0\n",
      "Value of label is:  1\n"
     ]
    }
   ],
   "source": [
    "# storing all the images in array format in input_image \n",
    "input_image = []\n",
    "for i in cate:\n",
    "    folders = os.path.join(path1,i)\n",
    "    label = cate.index(i)\n",
    "    print(\"Value of label is: \",label)\n",
    "    for image in os.listdir(folders):\n",
    "        image_path = os.path.join(folders,image)\n",
    "        if image_path == 'D:\\Datasets\\catsdogs\\dogs\\desktop.ini':\n",
    "            continue\n",
    "        image_array = cv2.imread(image_path)\n",
    "        image_array = cv2.resize(image_array, (image_size,image_size)) \n",
    "        input_image.append( [image_array,label] )"
   ]
  },
  {
   "cell_type": "code",
   "execution_count": 9,
   "id": "ebcae0ab",
   "metadata": {},
   "outputs": [
    {
     "data": {
      "text/plain": [
       "3998"
      ]
     },
     "execution_count": 9,
     "metadata": {},
     "output_type": "execute_result"
    }
   ],
   "source": [
    "len(input_image)"
   ]
  },
  {
   "cell_type": "code",
   "execution_count": 10,
   "id": "93d1462f",
   "metadata": {},
   "outputs": [],
   "source": [
    "#shuffling the array\n",
    "np.random.shuffle(input_image)"
   ]
  },
  {
   "cell_type": "code",
   "execution_count": 11,
   "id": "c1d9d39e",
   "metadata": {},
   "outputs": [],
   "source": [
    "# till here x and y values are together. We need to separate them\n",
    "X = []\n",
    "Y = []\n",
    "\n",
    "for x_values,labels in input_image:\n",
    "    X.append(x_values)\n",
    "    Y.append(labels)"
   ]
  },
  {
   "cell_type": "code",
   "execution_count": 12,
   "id": "bb82ab37",
   "metadata": {},
   "outputs": [],
   "source": [
    "X = np.array(X)\n",
    "Y = np.array(Y)"
   ]
  },
  {
   "cell_type": "code",
   "execution_count": 13,
   "id": "48097017",
   "metadata": {},
   "outputs": [
    {
     "data": {
      "text/plain": [
       "(3998, 200, 200, 3)"
      ]
     },
     "execution_count": 13,
     "metadata": {},
     "output_type": "execute_result"
    }
   ],
   "source": [
    "X.shape"
   ]
  },
  {
   "cell_type": "code",
   "execution_count": 14,
   "id": "c0fc1a8e",
   "metadata": {},
   "outputs": [
    {
     "data": {
      "text/plain": [
       "(3998,)"
      ]
     },
     "execution_count": 14,
     "metadata": {},
     "output_type": "execute_result"
    }
   ],
   "source": [
    "Y.shape"
   ]
  },
  {
   "cell_type": "code",
   "execution_count": 15,
   "id": "91de1915",
   "metadata": {},
   "outputs": [],
   "source": [
    "Y\n",
    "X = X / 255"
   ]
  },
  {
   "cell_type": "code",
   "execution_count": 16,
   "id": "2cf7547f",
   "metadata": {},
   "outputs": [],
   "source": [
    "# creating the model \n",
    "model = Sequential()"
   ]
  },
  {
   "cell_type": "code",
   "execution_count": 17,
   "id": "907dc151",
   "metadata": {},
   "outputs": [],
   "source": [
    "# adding input,hidden and output layers\n",
    "model.add(Conv2D(filters = 20,kernel_size = (10,10),input_shape = (200,200,3) ,activation = 'relu',padding = 'same'))\n",
    "model.add(MaxPool2D(pool_size = (5,5)))\n",
    "model.add(Flatten())\n",
    "\n",
    "model.add(Dense(128,activation = 'relu'))\n",
    "model.add(Dense(2,activation = 'softmax'))"
   ]
  },
  {
   "cell_type": "code",
   "execution_count": 18,
   "id": "bc5767f8",
   "metadata": {},
   "outputs": [],
   "source": [
    "# compiling the model with opyimizer 'adam'\n",
    "model.compile(optimizer = 'adam',loss = 'sparse_categorical_crossentropy',metrics = ['accuracy'])"
   ]
  },
  {
   "cell_type": "code",
   "execution_count": 19,
   "id": "57e42e7b",
   "metadata": {},
   "outputs": [
    {
     "name": "stdout",
     "output_type": "stream",
     "text": [
      "Epoch 1/10\n",
      "50/50 [==============================] - 83s 2s/step - loss: 1.0453 - accuracy: 0.5672 - val_loss: 0.6816 - val_accuracy: 0.5838\n",
      "Epoch 2/10\n",
      "50/50 [==============================] - 78s 2s/step - loss: 0.6815 - accuracy: 0.5700 - val_loss: 0.6769 - val_accuracy: 0.5863\n",
      "Epoch 3/10\n",
      "50/50 [==============================] - 77s 2s/step - loss: 0.6682 - accuracy: 0.5913 - val_loss: 0.6724 - val_accuracy: 0.5863\n",
      "Epoch 4/10\n",
      "50/50 [==============================] - 76s 2s/step - loss: 0.6273 - accuracy: 0.6329 - val_loss: 0.6652 - val_accuracy: 0.6012\n",
      "Epoch 5/10\n",
      "50/50 [==============================] - 77s 2s/step - loss: 0.5748 - accuracy: 0.6826 - val_loss: 0.6494 - val_accuracy: 0.6350\n",
      "Epoch 6/10\n",
      "50/50 [==============================] - 80s 2s/step - loss: 0.4967 - accuracy: 0.7583 - val_loss: 0.6931 - val_accuracy: 0.6400\n",
      "Epoch 7/10\n",
      "50/50 [==============================] - 77s 2s/step - loss: 0.4061 - accuracy: 0.8180 - val_loss: 0.7412 - val_accuracy: 0.6450\n",
      "Epoch 8/10\n",
      "50/50 [==============================] - 77s 2s/step - loss: 0.3265 - accuracy: 0.8549 - val_loss: 0.8010 - val_accuracy: 0.6625\n",
      "Epoch 9/10\n",
      "50/50 [==============================] - 77s 2s/step - loss: 0.2602 - accuracy: 0.8893 - val_loss: 0.8355 - val_accuracy: 0.6575\n",
      "Epoch 10/10\n",
      "50/50 [==============================] - 77s 2s/step - loss: 0.2005 - accuracy: 0.9284 - val_loss: 0.9649 - val_accuracy: 0.6450\n"
     ]
    },
    {
     "data": {
      "text/plain": [
       "<keras.callbacks.History at 0x273842d5670>"
      ]
     },
     "execution_count": 19,
     "metadata": {},
     "output_type": "execute_result"
    }
   ],
   "source": [
    "# fitting the model \n",
    "model.fit(X,Y,epochs = 10,batch_size = 64,validation_split = 0.2)"
   ]
  },
  {
   "cell_type": "code",
   "execution_count": 20,
   "id": "dfbb8969",
   "metadata": {},
   "outputs": [
    {
     "name": "stdout",
     "output_type": "stream",
     "text": [
      "Model: \"sequential\"\n",
      "_________________________________________________________________\n",
      " Layer (type)                Output Shape              Param #   \n",
      "=================================================================\n",
      " conv2d (Conv2D)             (None, 200, 200, 20)      6020      \n",
      "                                                                 \n",
      " max_pooling2d (MaxPooling2D  (None, 40, 40, 20)       0         \n",
      " )                                                               \n",
      "                                                                 \n",
      " flatten (Flatten)           (None, 32000)             0         \n",
      "                                                                 \n",
      " dense (Dense)               (None, 128)               4096128   \n",
      "                                                                 \n",
      " dense_1 (Dense)             (None, 2)                 258       \n",
      "                                                                 \n",
      "=================================================================\n",
      "Total params: 4,102,406\n",
      "Trainable params: 4,102,406\n",
      "Non-trainable params: 0\n",
      "_________________________________________________________________\n"
     ]
    }
   ],
   "source": [
    "model.summary()"
   ]
  },
  {
   "cell_type": "code",
   "execution_count": 21,
   "id": "a36b859d",
   "metadata": {},
   "outputs": [
    {
     "name": "stdout",
     "output_type": "stream",
     "text": [
      "125/125 [==============================] - 13s 92ms/step\n"
     ]
    }
   ],
   "source": [
    "#calculating prediciton accuracy\n",
    "pred = model.predict(X)"
   ]
  },
  {
   "cell_type": "code",
   "execution_count": 22,
   "id": "7272eac5",
   "metadata": {},
   "outputs": [
    {
     "data": {
      "text/plain": [
       "array([[0.45447737, 0.5455227 ],\n",
       "       [0.4184496 , 0.5815504 ],\n",
       "       [0.47571772, 0.5242823 ],\n",
       "       ...,\n",
       "       [0.01952315, 0.98047686],\n",
       "       [0.70850825, 0.29149175],\n",
       "       [0.11835644, 0.8816436 ]], dtype=float32)"
      ]
     },
     "execution_count": 22,
     "metadata": {},
     "output_type": "execute_result"
    }
   ],
   "source": [
    "pred"
   ]
  },
  {
   "cell_type": "code",
   "execution_count": 23,
   "id": "795c9103",
   "metadata": {},
   "outputs": [],
   "source": [
    "pred_classes = np.argmax(pred,axis = 1)"
   ]
  },
  {
   "cell_type": "code",
   "execution_count": 24,
   "id": "3ae6747d",
   "metadata": {},
   "outputs": [
    {
     "data": {
      "text/plain": [
       "array([1, 1, 1, ..., 1, 0, 1], dtype=int64)"
      ]
     },
     "execution_count": 24,
     "metadata": {},
     "output_type": "execute_result"
    }
   ],
   "source": [
    "pred_classes"
   ]
  },
  {
   "cell_type": "code",
   "execution_count": 25,
   "id": "80142e81",
   "metadata": {},
   "outputs": [
    {
     "data": {
      "text/plain": [
       "array([[1523,  187],\n",
       "       [ 238, 2050]], dtype=int64)"
      ]
     },
     "execution_count": 25,
     "metadata": {},
     "output_type": "execute_result"
    }
   ],
   "source": [
    "catdog_cf = confusion_matrix(Y,pred_classes)\n",
    "catdog_cf"
   ]
  },
  {
   "cell_type": "code",
   "execution_count": 26,
   "id": "fb584b11",
   "metadata": {},
   "outputs": [
    {
     "data": {
      "text/plain": [
       "89.36968484242122"
      ]
     },
     "execution_count": 26,
     "metadata": {},
     "output_type": "execute_result"
    }
   ],
   "source": [
    "accuracy_score(Y,pred_classes)*100"
   ]
  },
  {
   "cell_type": "code",
   "execution_count": null,
   "id": "b778432a",
   "metadata": {},
   "outputs": [],
   "source": []
  }
 ],
 "metadata": {
  "kernelspec": {
   "display_name": "Python 3 (ipykernel)",
   "language": "python",
   "name": "python3"
  },
  "language_info": {
   "codemirror_mode": {
    "name": "ipython",
    "version": 3
   },
   "file_extension": ".py",
   "mimetype": "text/x-python",
   "name": "python",
   "nbconvert_exporter": "python",
   "pygments_lexer": "ipython3",
   "version": "3.9.12"
  }
 },
 "nbformat": 4,
 "nbformat_minor": 5
}
